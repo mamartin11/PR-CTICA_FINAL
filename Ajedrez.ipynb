{
 "cells": [
  {
   "cell_type": "code",
   "execution_count": 206,
   "metadata": {},
   "outputs": [],
   "source": [
    "cadena=input()\n",
    "cadena=cadena.split('/')\n",
    "numeros=['0','1','2','3','4','5','6','7','8']\n",
    "blancas=['P','N','B','R','Q','K']\n",
    "negras=['p','n','b','r','q','k']\n",
    "matriz=[[],[],[],[],[],[],[],[]]"
   ]
  },
  {
   "cell_type": "code",
   "execution_count": 207,
   "metadata": {},
   "outputs": [
    {
     "data": {
      "text/plain": [
       "['2r3k1', 'p3bqp1', 'Q2p3p', '3Pp3', 'P3N3', '8', '5PPP', '5RK1']"
      ]
     },
     "execution_count": 207,
     "metadata": {},
     "output_type": "execute_result"
    }
   ],
   "source": [
    "cadena"
   ]
  },
  {
   "cell_type": "code",
   "execution_count": 208,
   "metadata": {},
   "outputs": [],
   "source": [
    "for linea in cadena:\n",
    "    contador=0\n",
    "    for i in range(len(linea)):\n",
    "        if linea[i] in numeros:\n",
    "            contador+=int(linea[i])\n",
    "        else:\n",
    "            contador+=1\n",
    "    if contador!=8:\n",
    "        print('Expresión incorrecta')\n",
    "l=0\n",
    "for linea in cadena:\n",
    "    for i in linea:\n",
    "        if i in numeros:\n",
    "            for c in range(int(i)):\n",
    "                matriz[l].append('--')\n",
    "        elif i in blancas:\n",
    "            if i=='P':\n",
    "                matriz[l].append('wP')\n",
    "            if i=='N':\n",
    "                matriz[l].append('wN')\n",
    "            if i=='B':\n",
    "                matriz[l].append('wB')\n",
    "            if i=='R':\n",
    "                matriz[l].append('wR')\n",
    "            if i=='Q':\n",
    "                matriz[l].append('wQ')\n",
    "            if i=='K':\n",
    "                matriz[l].append('wK')\n",
    "\n",
    "        elif i in negras:\n",
    "            if i=='p':\n",
    "                matriz[l].append('bP')\n",
    "            if i=='n':\n",
    "                matriz[l].append('bN')\n",
    "            if i=='b':\n",
    "                matriz[l].append('bB')\n",
    "            if i=='r':\n",
    "                matriz[l].append('bR')\n",
    "            if i=='q':\n",
    "                matriz[l].append('bQ')\n",
    "            if i=='k':\n",
    "                matriz[l].append('bK')\n",
    "\n",
    "        else:\n",
    "            print('Caracter inválido')\n",
    "            break \n",
    "    l+=1  "
   ]
  },
  {
   "cell_type": "code",
   "execution_count": 209,
   "metadata": {},
   "outputs": [
    {
     "name": "stdout",
     "output_type": "stream",
     "text": [
      "['--', '--', 'bR', '--', '--', '--', 'bK', '--']\n",
      "['bP', '--', '--', '--', 'bB', 'bQ', 'bP', '--']\n",
      "['wQ', '--', '--', 'bP', '--', '--', '--', 'bP']\n",
      "['--', '--', '--', 'wP', 'bP', '--', '--', '--']\n",
      "['wP', '--', '--', '--', 'wN', '--', '--', '--']\n",
      "['--', '--', '--', '--', '--', '--', '--', '--']\n",
      "['--', '--', '--', '--', '--', 'wP', 'wP', 'wP']\n",
      "['--', '--', '--', '--', '--', 'wR', 'wK', '--']\n"
     ]
    }
   ],
   "source": [
    "for k in matriz:\n",
    "    print(k)"
   ]
  },
  {
   "cell_type": "code",
   "execution_count": 210,
   "metadata": {},
   "outputs": [
    {
     "data": {
      "text/plain": [
       "['bP', '--', '--', '--', 'bB', 'bQ', 'bP', '--']"
      ]
     },
     "execution_count": 210,
     "metadata": {},
     "output_type": "execute_result"
    }
   ],
   "source": [
    "matriz[1]"
   ]
  },
  {
   "cell_type": "code",
   "execution_count": 4,
   "metadata": {},
   "outputs": [
    {
     "data": {
      "text/plain": [
       "['2r3k1', 'p3bqp1', 'Q2p3p', '3Pp3', 'P3N3', '8', '5PPP', '5RK1']"
      ]
     },
     "execution_count": 4,
     "metadata": {},
     "output_type": "execute_result"
    }
   ],
   "source": [
    "a='2r3k1/p3bqp1/Q2p3p/3Pp3/P3N3/8/5PPP/5RK1'\n",
    "a=a.split('/')\n",
    "a"
   ]
  },
  {
   "cell_type": "code",
   "execution_count": null,
   "metadata": {},
   "outputs": [],
   "source": []
  }
 ],
 "metadata": {
  "kernelspec": {
   "display_name": "Python 3.10.4 64-bit",
   "language": "python",
   "name": "python3"
  },
  "language_info": {
   "codemirror_mode": {
    "name": "ipython",
    "version": 3
   },
   "file_extension": ".py",
   "mimetype": "text/x-python",
   "name": "python",
   "nbconvert_exporter": "python",
   "pygments_lexer": "ipython3",
   "version": "3.10.4"
  },
  "orig_nbformat": 4,
  "vscode": {
   "interpreter": {
    "hash": "0604f2aa08d2f7bab2c0a38b11e2afc7fe29fb2906f9235fc820998161bfac82"
   }
  }
 },
 "nbformat": 4,
 "nbformat_minor": 2
}
